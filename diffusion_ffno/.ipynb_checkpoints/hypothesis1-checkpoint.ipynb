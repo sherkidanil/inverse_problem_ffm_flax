{
 "cells": [
  {
   "cell_type": "code",
   "execution_count": 3,
   "id": "a995194d-4eca-4eec-820d-d3864fd18de6",
   "metadata": {},
   "outputs": [],
   "source": [
    "import jax.numpy as jnp\n",
    "import matplotlib.pyplot as plt\n",
    "import optax\n",
    "import equinox as eqx\n",
    "import time\n",
    "import requests\n",
    "import itertools\n",
    "\n",
    "from urllib.parse import urlencode\n",
    "from jax import random, vmap\n",
    "from jax.lax import scan\n",
    "from jax.tree_util import tree_map\n",
    "\n",
    "%config InlineBackend.figure_format='retina'"
   ]
  },
  {
   "cell_type": "code",
   "execution_count": null,
   "id": "5e54cef5-b7bf-4efe-b9f8-d5744a4e1ffa",
   "metadata": {},
   "outputs": [],
   "source": [
    "from flow_matching import train as train_fm, priors, flows\n",
    "from flow_matching.architectures import ffno as ffno_fm\n",
    "\n",
    "from flow_matching.integrators import explicit_Euler, integrator\n",
    "from flow_matching.evaluate import get_statistics_scan, compute_error as compute_error_fm"
   ]
  },
  {
   "cell_type": "code",
   "execution_count": 27,
   "id": "9e820827-b222-416f-a5ba-716bc823bfc7",
   "metadata": {},
   "outputs": [
    {
     "name": "stdout",
     "output_type": "stream",
     "text": [
      "features (10000, 1, 128, 128)\n",
      "targets (10000, 1, 128, 128)\n",
      "coordinates (2, 128, 128)\n"
     ]
    }
   ],
   "source": [
    "# link = 'https://disk.yandex.ru/d/7XkIfN8hJ2a2RA'\n",
    "# name = 'Diffusion.npz'\n",
    "# download_from_yandex_disk(link, name)\n",
    "\n",
    "# Diffusion_data = jnp.load(name)\n",
    "Diffusion_data = jnp.load(\"/mnt/local/dataset/by-domain/pde/PDE_datasets/PDE_bench/2D_DarcyFlow_beta100.0_Train.npz\")\n",
    "\n",
    "Diffusion_features = Diffusion_data['features']\n",
    "Diffusion_targets = Diffusion_data['targets']\n",
    "Diffusion_coordinates = Diffusion_data['coordinates']\n",
    "\n",
    "Diffusion_features = Diffusion_features / jnp.max(jnp.linalg.norm(Diffusion_features, ord=jnp.inf, axis=(2, 3), keepdims=True), axis=0, keepdims=True)\n",
    "Diffusion_targets = Diffusion_data['targets']  / jnp.max(jnp.linalg.norm(Diffusion_targets, ord=jnp.inf, axis=(2, 3), keepdims=True), axis=0, keepdims=True)\n",
    "\n",
    "print(\"features\", Diffusion_features.shape)\n",
    "print(\"targets\", Diffusion_targets.shape)\n",
    "print(\"coordinates\", Diffusion_coordinates.shape)\n",
    "\n",
    "del Diffusion_data"
   ]
  },
  {
   "cell_type": "code",
   "execution_count": null,
   "id": "329e00c6-e3bc-46fe-81bb-53b8bcf50bb7",
   "metadata": {},
   "outputs": [],
   "source": [
    "D = 2\n",
    "learning_rate = 1e-4\n",
    "N_processor = 32\n",
    "N_train = 4000\n",
    "N_run = 10000\n",
    "N_batch = 10\n",
    "N_layers = 4\n",
    "N_modes = 16\n",
    "N_drop = N_run // 4\n",
    "gamma = 0.5\n",
    "scale = 0.001\n",
    "po = 2.0\n",
    "N = 150\n",
    "\n",
    "key = random.PRNGKey(11)\n",
    "keys = random.split(key, 3)\n",
    "N_features = [Diffusion_coordinates.shape[0] + Diffusion_features.shape[1] + Diffusion_targets.shape[1] + 1, N_processor, Diffusion_targets.shape[1]]\n",
    "model = ffno_fm.flow_FFNO(N_layers, N_features, N_modes, D, keys[0])\n",
    "\n",
    "learning_rate = optax.exponential_decay(learning_rate, N_drop, gamma)\n",
    "optim = optax.lion(learning_rate=learning_rate)\n",
    "opt_state = optim.init(eqx.filter(model, eqx.is_array))\n",
    "\n",
    "ind = jnp.arange(Diffusion_features.shape[0])\n",
    "ind_train, ind_test = ind[:N_train], ind[N_train:]\n",
    "n = random.choice(keys[1], ind_train, shape = (N_run, N_batch))\n",
    "\n",
    "carry = [model, Diffusion_targets, Diffusion_features, Diffusion_coordinates, opt_state, keys[2]]\n",
    "\n",
    "flow_params = [0.0, ]\n",
    "flow = lambda target_1, target_0, t: flows.optimal_transport(target_1, target_0, t, flow_params)\n",
    "\n",
    "basis, freq = priors.get_basis_normal_periodic(Diffusion_coordinates, N)\n",
    "prior_params = [basis, freq, scale, po]\n",
    "prior = lambda key: priors.normal_periodic(key, prior_params)\n",
    "\n",
    "make_step_scan_ = lambda a, b: train_fm.make_step_scan(a, b, optim, flow, prior)\n",
    "carry, losses = scan(make_step_scan_, carry, n)\n",
    "model = carry[0]\n",
    "\n",
    "plt.yscale(\"log\")\n",
    "plt.plot(losses);"
   ]
  }
 ],
 "metadata": {
  "kernelspec": {
   "display_name": "Python 3 (ipykernel)",
   "language": "python",
   "name": "python3"
  },
  "language_info": {
   "codemirror_mode": {
    "name": "ipython",
    "version": 3
   },
   "file_extension": ".py",
   "mimetype": "text/x-python",
   "name": "python",
   "nbconvert_exporter": "python",
   "pygments_lexer": "ipython3",
   "version": "3.9.20"
  }
 },
 "nbformat": 4,
 "nbformat_minor": 5
}
